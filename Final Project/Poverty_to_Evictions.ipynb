{
 "cells": [
  {
   "cell_type": "code",
   "execution_count": null,
   "id": "04e77906-ed02-4c4a-aeff-3191b6cadf7e",
   "metadata": {},
   "outputs": [],
   "source": [
    "import pandas as pd\n",
    "import numpy as np\n",
    "import matplotlib.pyplot as plt\n",
    "import seaborn as sns\n",
    "from scipy.stats import pearsonr\n",
    "import warnings"
   ]
  },
  {
   "cell_type": "code",
   "execution_count": null,
   "id": "d7be0897-d65c-429a-875f-9a1d6adceea5",
   "metadata": {},
   "outputs": [],
   "source": [
    "data = pd.read_csv('EvictionMemphis2020.csv')\n",
    "variables = ['EvicTotal','Pct_in_pov']\n",
    "data_selected = data[variables]\n",
    "data_cleaned = data_selected[(data_selected['EvicTotal'] > 0) \n",
    "                             & (data_selected['Pct_in_pov'] > 0)]\n",
    "print('# of observations (original):', len(data))\n",
    "print('# of observations (cleaned):', len(data_cleaned))"
   ]
  },
  {
   "cell_type": "code",
   "execution_count": null,
   "id": "e09d42ef-adea-4973-b89a-759449396c08",
   "metadata": {},
   "outputs": [],
   "source": [
    "#stats for non transformed\n",
    "descriptive_stats = data_cleaned.describe()\n",
    "print(\"Descriptive statistics for the selected variables:\")\n",
    "print(descriptive_stats)"
   ]
  },
  {
   "cell_type": "code",
   "execution_count": null,
   "id": "55b4cb8a-800c-4ea4-9be6-d8bd3aeb1c9d",
   "metadata": {},
   "outputs": [],
   "source": [
    "#skewness for non transformed\n",
    "skewness_values = data_cleaned.skew()\n",
    "print(\"Skewness of the selected variables:\")\n",
    "print(skewness_values)"
   ]
  },
  {
   "cell_type": "code",
   "execution_count": null,
   "id": "9f661ebb-39b8-4c2a-ac28-b32e615f02b0",
   "metadata": {},
   "outputs": [],
   "source": [
    "def corrfunc(x, y, **kwargs):\n",
    "    stat, pval = pearsonr(x, y)\n",
    "    ax = plt.gca() \n",
    "    ax.annotate('r = {}'.format(np.round(stat, 2)),  xy = (0.6, 0.1),\n",
    "                xycoords = ax.transAxes, fontsize = 12, color = 'red') \n",
    "g = sns.PairGrid(data_cleaned, diag_sharey = False)\n",
    "g.map_upper(sns.regplot, scatter_kws = {'alpha': 0.3}) \n",
    "g.map_upper(corrfunc)                                  \n",
    "g.map_diag(sns.histplot, kde = False)                  \n",
    "g.map_lower(sns.kdeplot, cmap = 'Spectral_r')                       \n",
    "plt.suptitle('Scatterplot for the variables', \n",
    "             y = 1.1)\n",
    "plt.show()"
   ]
  },
  {
   "cell_type": "markdown",
   "id": "eeaa35df-685a-48e5-b75b-42fec835d986",
   "metadata": {},
   "source": [
    "---"
   ]
  },
  {
   "cell_type": "code",
   "execution_count": null,
   "id": "7b40f96c-531a-4ef9-ad00-1d6caf75e116",
   "metadata": {},
   "outputs": [],
   "source": [
    "##stats for log transformed\n",
    "data_log = np.log(data_cleaned)\n",
    "data_log = data_log.rename(columns = {'EvicTotal': 'Log_EvicTotal',\n",
    "                                      'Pct_in_pov': 'Log_Pct_in_pov' })\n",
    "descriptive_stats = data_log.describe()\n",
    "print(\"Descriptive statistics for log variables:\")\n",
    "print(descriptive_stats)"
   ]
  },
  {
   "cell_type": "code",
   "execution_count": null,
   "id": "763053de-336b-4237-bdc1-86ce9b3f88e5",
   "metadata": {},
   "outputs": [],
   "source": [
    "#skewness for log transformed\n",
    "skewness_values = data_log.skew()\n",
    "print(\"Skewness of the log variables:\")\n",
    "print(skewness_values)"
   ]
  },
  {
   "cell_type": "code",
   "execution_count": null,
   "id": "0c33773d-ca20-4c21-8df3-a0c630e83e24",
   "metadata": {},
   "outputs": [],
   "source": [
    "def corrfunc(x, y, **kwargs):\n",
    "    stat, pval = pearsonr(x, y)\n",
    "    ax = plt.gca() \n",
    "    ax.annotate('r = {}'.format(np.round(stat, 2)),  xy = (0.6, 0.1),\n",
    "                xycoords = ax.transAxes, fontsize = 12, color = 'red') \n",
    "g = sns.PairGrid(data_log, diag_sharey = False)\n",
    "g.map_upper(sns.regplot, scatter_kws = {'alpha': 0.3}) \n",
    "g.map_upper(corrfunc)                                  \n",
    "g.map_diag(sns.histplot, kde = False)                  \n",
    "g.map_lower(sns.kdeplot, cmap = 'Spectral_r')                       \n",
    "plt.suptitle('Scatterplot for the log variables', \n",
    "             y = 1.1)\n",
    "plt.show()"
   ]
  },
  {
   "cell_type": "markdown",
   "id": "af086007-0261-438c-8315-9ba4f52f0207",
   "metadata": {},
   "source": [
    "***"
   ]
  },
  {
   "cell_type": "code",
   "execution_count": null,
   "id": "4d063b9f-7016-44ca-9cf0-24de7213c906",
   "metadata": {
    "jupyter": {
     "source_hidden": true
    }
   },
   "outputs": [],
   "source": [
    "from IPython.display import HTML\n",
    "\n",
    "HTML('<span style=\"color:red;\">From here on out I use Log-transformed evictions but non-transformed poverty since it became more skewed when transformed</span>')\n",
    "\n"
   ]
  },
  {
   "cell_type": "code",
   "execution_count": null,
   "id": "d1029f3e-937e-4ae9-bda4-dfe08054fdf3",
   "metadata": {},
   "outputs": [],
   "source": [
    "import statsmodels.api as regression"
   ]
  },
  {
   "cell_type": "code",
   "execution_count": null,
   "id": "8b92d3ff-0f3a-4e79-8086-601e7568b7f9",
   "metadata": {},
   "outputs": [],
   "source": [
    "X = data_cleaned['Pct_in_pov']  \n",
    "y_log = data_log['Log_EvicTotal']\n",
    "X = regression.add_constant(X)\n",
    "model = regression.OLS(y_log, X).fit()\n",
    "print(model.summary())"
   ]
  },
  {
   "cell_type": "code",
   "execution_count": null,
   "id": "693422a3-d136-4804-a2da-9cf699667000",
   "metadata": {},
   "outputs": [],
   "source": [
    "data_combined = pd.merge(data_cleaned[['Pct_in_pov']], data_log[['Log_EvicTotal']], left_index=True, right_index=True)"
   ]
  },
  {
   "cell_type": "code",
   "execution_count": null,
   "id": "6c9c23a7-9331-4594-a3d1-d945def78c15",
   "metadata": {},
   "outputs": [],
   "source": [
    "#final scatterplot using Log-transformed evictions and non-transformed poverty\n",
    "def corrfunc(x, y, **kwargs):\n",
    "    stat, pval = pearsonr(x, y)\n",
    "    ax = plt.gca() \n",
    "    ax.annotate('r = {}'.format(np.round(stat, 2)),  xy = (0.6, 0.1),\n",
    "                xycoords = ax.transAxes, fontsize = 12, color = 'red') \n",
    "g = sns.PairGrid(data_combined, diag_sharey = False)\n",
    "g.map_upper(sns.regplot, scatter_kws = {'alpha': 0.3}) \n",
    "g.map_upper(corrfunc)                                  \n",
    "g.map_diag(sns.histplot, kde = False)                  \n",
    "g.map_lower(sns.kdeplot, cmap = 'Spectral_r')                       \n",
    "plt.suptitle('Scatterplot', \n",
    "             y = 1.1)\n",
    "plt.show()\n",
    "\n",
    "#final regression using Log-transformed evictions and non-transformed poverty\n",
    "plt.figure(figsize = (8, 6))\n",
    "sns.regplot(x = 'Pct_in_pov', y = 'Log_EvicTotal', data = data_combined,\n",
    "            scatter_kws = {'alpha': 0.5}, line_kws = {'color': 'blue'})\n",
    "plt.title('Linear Regression: Log_EvicTotal vs Pct_in_pov')\n",
    "plt.show()\n",
    "\n",
    "#final regression-standardized-thingy using Log-transformed evictions and non-transformed poverty\n",
    "y_pred = model.predict(X)\n",
    "y = data_combined['Log_EvicTotal']\n",
    "residuals = y - y_pred\n",
    "standardized_residuals = residuals / np.std(residuals)\n",
    "plt.figure(figsize = (8, 6))\n",
    "plt.scatter(y_pred, standardized_residuals, alpha = 0.5)\n",
    "plt.axhline(y = 0, color='r', linestyle = '--', linewidth = 2)\n",
    "plt.axhline(y = 2, color='g', linestyle = '--', linewidth = 1) \n",
    "plt.axhline(y = -2, color='g', linestyle = '--', linewidth = 1)\n",
    "plt.title('Standardized vs. Fitted values')\n",
    "plt.xlabel('Fitted Values (Predicted EvicTotal)')\n",
    "plt.ylabel('Standardized residuals')\n",
    "plt.show()"
   ]
  },
  {
   "cell_type": "code",
   "execution_count": null,
   "id": "f07523eb-4ec6-486e-99db-f7b1d396b9cb",
   "metadata": {},
   "outputs": [],
   "source": []
  }
 ],
 "metadata": {
  "kernelspec": {
   "display_name": "Python 3 (ipykernel)",
   "language": "python",
   "name": "python3"
  },
  "language_info": {
   "codemirror_mode": {
    "name": "ipython",
    "version": 3
   },
   "file_extension": ".py",
   "mimetype": "text/x-python",
   "name": "python",
   "nbconvert_exporter": "python",
   "pygments_lexer": "ipython3",
   "version": "3.12.4"
  }
 },
 "nbformat": 4,
 "nbformat_minor": 5
}
