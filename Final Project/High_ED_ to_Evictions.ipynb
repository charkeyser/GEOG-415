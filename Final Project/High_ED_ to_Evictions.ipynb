{
 "cells": [
  {
   "cell_type": "code",
   "execution_count": null,
   "id": "9ab6a74b-c324-4ede-ad1d-35d75fa9c951",
   "metadata": {},
   "outputs": [],
   "source": [
    "import pandas as pd\n",
    "import numpy as np\n",
    "import matplotlib.pyplot as plt\n",
    "import seaborn as sns\n",
    "from scipy.stats import pearsonr\n",
    "import warnings\n",
    "import statsmodels.api as regression"
   ]
  },
  {
   "cell_type": "code",
   "execution_count": null,
   "id": "0887b7be-b07c-4fdf-885d-3d7aace84ade",
   "metadata": {},
   "outputs": [],
   "source": [
    "data = pd.read_csv('EvictionMemphis2020.csv')\n",
    "variables = ['EvicTotal','higherEduc']\n",
    "data_selected = data[variables]\n",
    "data_cleaned = data_selected[(data_selected['EvicTotal'] > 0) \n",
    "                             & (data_selected['higherEduc'] > 0)]\n",
    "print('# of observations (original):', len(data))\n",
    "print('# of observations (cleaned):', len(data_cleaned))"
   ]
  },
  {
   "cell_type": "code",
   "execution_count": null,
   "id": "ab118ad8-9294-4262-8754-683005aee32d",
   "metadata": {},
   "outputs": [],
   "source": [
    "# Descriptive stats for non-transformed\n",
    "descriptive_stats = data_cleaned.describe()\n",
    "print(\"Descriptive statistics for the selected variables:\")\n",
    "print(descriptive_stats)"
   ]
  },
  {
   "cell_type": "code",
   "execution_count": null,
   "id": "3692ce9c-583b-4c89-9e76-0fcdd4fbeb95",
   "metadata": {},
   "outputs": [],
   "source": [
    "#skewness for non-transformed\n",
    "skewness_values = data_cleaned.skew()\n",
    "print(\"Skewness of the selected variables:\")\n",
    "print(skewness_values)"
   ]
  },
  {
   "cell_type": "code",
   "execution_count": null,
   "id": "cb05eef0-9917-465a-98e9-7e0ce0700fdd",
   "metadata": {},
   "outputs": [],
   "source": [
    "def corrfunc(x, y, **kwargs):\n",
    "    stat, pval = pearsonr(x, y)\n",
    "    ax = plt.gca() \n",
    "    ax.annotate('r = {}'.format(np.round(stat, 2)),  xy = (0.6, 0.1),\n",
    "                xycoords = ax.transAxes, fontsize = 12, color = 'red') \n",
    "g = sns.PairGrid(data_cleaned, diag_sharey = False)\n",
    "g.map_upper(sns.regplot, scatter_kws = {'alpha': 0.3}) \n",
    "g.map_upper(corrfunc)                                  \n",
    "g.map_diag(sns.histplot, kde = False)                  \n",
    "g.map_lower(sns.kdeplot, cmap = 'Spectral_r')                       \n",
    "plt.suptitle('Scatterplot for the variables', \n",
    "             y = 1.1)\n",
    "plt.show()"
   ]
  },
  {
   "cell_type": "markdown",
   "id": "66ec556e-049b-42eb-82ff-ce8ace85e674",
   "metadata": {},
   "source": [
    "---"
   ]
  },
  {
   "cell_type": "code",
   "execution_count": null,
   "id": "598c5fe6-23bf-47f6-a80d-2de0cee577ae",
   "metadata": {},
   "outputs": [],
   "source": [
    "data_log = np.log(data_cleaned)\n",
    "data_log = data_log.rename(columns = {'EvicTotal': 'Log_EvicTotal',\n",
    "                                      'higherEduc': 'Log_higherEduc' })"
   ]
  },
  {
   "cell_type": "code",
   "execution_count": null,
   "id": "8969ee95-80e9-47be-8cd0-bb9c0b7675d6",
   "metadata": {},
   "outputs": [],
   "source": [
    "# stats for log-transformed\n",
    "descriptive_stats = data_log.describe()\n",
    "print(\"Descriptive statistics for log variables:\")\n",
    "print(descriptive_stats)"
   ]
  },
  {
   "cell_type": "code",
   "execution_count": null,
   "id": "1e81ed8e-9892-462b-82a2-b83568271e2c",
   "metadata": {},
   "outputs": [],
   "source": [
    "#skewness for log transformed\n",
    "skewness_values = data_log.skew()\n",
    "print(\"Skewness of the log variables:\")\n",
    "print(skewness_values)"
   ]
  },
  {
   "cell_type": "code",
   "execution_count": null,
   "id": "0d802099-1062-4023-abfe-31e66807b67d",
   "metadata": {},
   "outputs": [],
   "source": [
    "def corrfunc(x, y, **kwargs):\n",
    "    stat, pval = pearsonr(x, y)\n",
    "    ax = plt.gca() \n",
    "    ax.annotate('r = {}'.format(np.round(stat, 2)),  xy = (0.6, 0.1),\n",
    "                xycoords = ax.transAxes, fontsize = 12, color = 'red') \n",
    "g = sns.PairGrid(data_log, diag_sharey = False)\n",
    "g.map_upper(sns.regplot, scatter_kws = {'alpha': 0.3}) \n",
    "g.map_upper(corrfunc)                                  \n",
    "g.map_diag(sns.histplot, kde = False)                  \n",
    "g.map_lower(sns.kdeplot, cmap = 'Spectral_r')                       \n",
    "plt.suptitle('Scatterplot for the log variables', \n",
    "             y = 1.1)\n",
    "plt.show()"
   ]
  },
  {
   "cell_type": "markdown",
   "id": "b18b9f86-d952-4474-8e85-12d8ac8e6c99",
   "metadata": {},
   "source": [
    "---"
   ]
  },
  {
   "cell_type": "code",
   "execution_count": null,
   "id": "2f5b2079-4789-4520-b158-cd1c326dd92b",
   "metadata": {},
   "outputs": [],
   "source": [
    "from IPython.display import HTML\n",
    "\n",
    "HTML('<span style=\"color:red;\">From here on out I use both variables in their log-transformed state since the skewness was closer to zero for both.</span>')\n",
    "\n"
   ]
  },
  {
   "cell_type": "code",
   "execution_count": null,
   "id": "dbcff28f-af57-4852-92f8-30ddf5f39886",
   "metadata": {},
   "outputs": [],
   "source": [
    "# UGLY custom code because the lab code broke 'x is not defined' even tho it never was in the lab. WHY\n",
    "X_log = data_log['Log_higherEduc'] \n",
    "y_log = data_log['Log_EvicTotal']\n",
    "X_log_with_const = sm.add_constant(X_log)\n",
    "model = regression.OLS(y_log, X_log_with_const).fit()\n",
    "print(model.summary())"
   ]
  },
  {
   "cell_type": "code",
   "execution_count": null,
   "id": "011cff32-264a-4cfa-9a9e-4f457de7495b",
   "metadata": {},
   "outputs": [],
   "source": [
    "# regression for log-transformed variables\n",
    "plt.figure(figsize = (8, 6))\n",
    "sns.regplot(x = 'Log_higherEduc', y = 'Log_EvicTotal', data = data_log, \n",
    "            scatter_kws = {'alpha': 0.5}, line_kws = {'color': 'blue'})\n",
    "plt.title('Linear Regression: Log_EvicTotal vs Log_higherEduc')\n",
    "plt.show()\n",
    "\n",
    "# SOME MORE UGLY AF CODE BECAUSE THE EXAMPL LAB CODE ABSOLUTELY COULD NOT HANDLE LIFE. final regression-standardized-thingy using Log-transformed variables\n",
    "X_log = data_log['Log_higherEduc'] \n",
    "y_log = data_log['Log_EvicTotal'] \n",
    "X_log_with_const = sm.add_constant(X_log)\n",
    "model = regression.OLS(y_log, X_log_with_const).fit()\n",
    "y_pred = model.predict(X_log_with_const)\n",
    "residuals = y_log - y_pred\n",
    "standardized_residuals = residuals / np.std(residuals)\n",
    "\n",
    "plt.figure(figsize=(8, 6))\n",
    "plt.scatter(y_pred, standardized_residuals, alpha=0.5)\n",
    "plt.axhline(y=0, color='r', linestyle='--', linewidth=2)\n",
    "plt.axhline(y=2, color='g', linestyle='--', linewidth=1) \n",
    "plt.axhline(y=-2, color='g', linestyle='--', linewidth=1)\n",
    "plt.title('Standardized vs. Fitted values')\n",
    "plt.xlabel('Fitted Values (Predicted Log_EvicTotal)')\n",
    "plt.ylabel('Standardized residuals')\n",
    "plt.show()"
   ]
  },
  {
   "cell_type": "code",
   "execution_count": null,
   "id": "b968fb91-a6f1-4268-a16b-8921edc3c161",
   "metadata": {},
   "outputs": [],
   "source": []
  }
 ],
 "metadata": {
  "kernelspec": {
   "display_name": "Python 3 (ipykernel)",
   "language": "python",
   "name": "python3"
  },
  "language_info": {
   "codemirror_mode": {
    "name": "ipython",
    "version": 3
   },
   "file_extension": ".py",
   "mimetype": "text/x-python",
   "name": "python",
   "nbconvert_exporter": "python",
   "pygments_lexer": "ipython3",
   "version": "3.12.4"
  }
 },
 "nbformat": 4,
 "nbformat_minor": 5
}
