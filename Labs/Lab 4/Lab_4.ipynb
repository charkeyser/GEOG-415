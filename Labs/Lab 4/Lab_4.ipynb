{
 "cells": [
  {
   "cell_type": "code",
   "execution_count": null,
   "id": "47b16d0e-3eb9-489e-9d37-201f73441029",
   "metadata": {},
   "outputs": [],
   "source": [
    "import numpy as np\n",
    "import pandas as pd\n",
    "import matplotlib.pyplot as plt\n",
    "import seaborn as sns"
   ]
  },
  {
   "cell_type": "code",
   "execution_count": null,
   "id": "ed755ce9-dffa-4ae6-a806-0685810fb0a0",
   "metadata": {},
   "outputs": [],
   "source": [
    "data = pd.read_csv('50statescensus2020.csv')\n",
    "print(data.columns)\n",
    "variables = ['HH_MEDIAN', 'BUYINGPOWER10_6', 'POPULATION', 'WHITE', 'HISPANIC']\n",
    "print(variables)"
   ]
  },
  {
   "cell_type": "code",
   "execution_count": null,
   "id": "20c16683-e94a-4d91-908b-f89900cbc49c",
   "metadata": {},
   "outputs": [],
   "source": [
    "descriptive_stats = data[variables].describe()\n",
    "print(np.round(descriptive_stats, 2))\n",
    "for col in variables:\n",
    "    plt.figure(figsize = (6, 4))\n",
    "    sns.histplot(data[col], bins = 10, kde = True, edgecolor = 'black')\n",
    "    plt.title('Histogram of {}'.format(col))\n",
    "    plt.xlabel(col)\n",
    "    plt.ylabel('Frequency')\n",
    "    plt.xticks(rotation = 45)\n",
    "    plt.ticklabel_format(style = 'plain', axis = 'x') "
   ]
  },
  {
   "cell_type": "code",
   "execution_count": null,
   "id": "60fbd1c5-04ac-462d-b813-a7b56f215029",
   "metadata": {},
   "outputs": [],
   "source": [
    "for col in variables:\n",
    "    plt.figure(figsize = (3, 6))\n",
    "    sns.boxplot(data = data, y = col)\n",
    "    plt.title('Box Plot of {}'.format(col))\n",
    "    plt.xlabel(col)\n",
    "    plt.ticklabel_format(style = 'plain', axis = 'y')"
   ]
  },
  {
   "cell_type": "code",
   "execution_count": null,
   "id": "0d7eb19a-27f8-4fc3-b0c1-bfcb1970faf5",
   "metadata": {},
   "outputs": [],
   "source": [
    "from scipy.stats import pearsonr"
   ]
  },
  {
   "cell_type": "code",
   "execution_count": null,
   "id": "2e21ce69-9b9d-4eeb-9de9-64b5293d99a3",
   "metadata": {},
   "outputs": [],
   "source": [
    "selected_vars = ['HH_MEDIAN', 'BUYINGPOWER10_6', 'POPULATION']\n",
    "corr_mat = data[selected_vars].corr()\n",
    "print('\\nCorrelation Matrix:')\n",
    "print(corr_mat)"
   ]
  },
  {
   "cell_type": "code",
   "execution_count": null,
   "id": "edbf52b0-5f76-42bd-b2e7-6e46b716d280",
   "metadata": {
    "scrolled": true
   },
   "outputs": [],
   "source": [
    "def corrfunc(x, y, **kwargs):\n",
    "    stat, pval = pearsonr(x, y)\n",
    "    ax = plt.gca()\n",
    "    ax.annotate('r = {}'.format(np.round(stat, 2)),  xy = (0.6, 0.1),\n",
    "                xycoords = ax.transAxes, fontsize = 12, color = 'Green')\n",
    "g = sns.PairGrid(data[selected_vars], diag_sharey = False) \n",
    "g.map_upper(sns.regplot, scatter_kws = {'alpha': 0.3})\n",
    "g.map_upper(corrfunc)                                  \n",
    "g.map_diag(sns.histplot, kde = False)                 \n",
    "g.map_lower(sns.kdeplot, cmap = 'Spectral_r')           \n",
    "\n",
    "plt.suptitle('Scatterplots with Correlation Coefficients', y = 1.02)\n",
    "plt.savefig('CorrMat.png', dpi = 300, bbox_inches = 'tight')"
   ]
  },
  {
   "cell_type": "code",
   "execution_count": null,
   "id": "6871b5ac-fc21-42a0-91bc-a87d655a7a7e",
   "metadata": {},
   "outputs": [],
   "source": [
    "from scipy import stats\n"
   ]
  },
  {
   "cell_type": "code",
   "execution_count": null,
   "id": "b3fe28e1-54e5-44fc-b040-f05cd07a41c8",
   "metadata": {},
   "outputs": [],
   "source": [
    "plt.figure(figsize = (10, 10))\n",
    "stats.probplot(data['POPULATION'], dist = 'norm', plot = plt)\n",
    "plt.title('Q-Q plot of original POPULATION')"
   ]
  },
  {
   "cell_type": "code",
   "execution_count": null,
   "id": "4b4a1141-232f-43f7-b513-0eb3589f3f4c",
   "metadata": {},
   "outputs": [],
   "source": [
    "data['Log_POPULATION'] = np.log(data['POPULATION'])\n",
    "plt.figure(figsize = (10, 10))\n",
    "stats.probplot(data['Log_POPULATION'], dist = 'norm', plot = plt)\n",
    "plt.title('Q-Q plot of log-transformed POPULATION')"
   ]
  },
  {
   "cell_type": "code",
   "execution_count": null,
   "id": "266721e9-a160-4510-a4ea-64ad317d7912",
   "metadata": {},
   "outputs": [],
   "source": [
    "plt.figure(figsize = (20, 10))\n",
    "plt.subplot(1, 2, 1)\n",
    "stats.probplot(data['POPULATION'], dist = 'norm', plot = plt)\n",
    "plt.title('Q-Q plot of original POPULATION')\n",
    "plt.subplot(1, 2, 2)\n",
    "stats.probplot(data['Log_POPULATION'], dist = 'norm', plot = plt)\n",
    "plt.title('Q-Q plot of log-transformed POPULATION')\n",
    "plt.savefig('QQ.png', dpi = 300, bbox_inches = 'tight')"
   ]
  },
  {
   "cell_type": "code",
   "execution_count": null,
   "id": "d36e7eba-90d2-45a4-b280-4bba5dbc356a",
   "metadata": {},
   "outputs": [],
   "source": [
    "variables = ['HH_MEDIAN', 'POPULATION', 'Log_POPULATION']\n",
    "g = sns.PairGrid(data[variables], diag_sharey = False) \n",
    "g.map_upper(sns.regplot, scatter_kws = {'alpha': 0.3})\n",
    "g.map_upper(corrfunc)                                  \n",
    "g.map_diag(sns.histplot, kde = False)                  \n",
    "g.map_lower(sns.kdeplot, cmap = 'Spectral_r')            \n",
    "plt.suptitle('Scatterplots with Correlation Coefficients', y = 1.02)"
   ]
  },
  {
   "cell_type": "code",
   "execution_count": null,
   "id": "d1b23cf2-e4d9-4d64-a6d1-a4286e2cb3bf",
   "metadata": {},
   "outputs": [],
   "source": [
    "data['Log_HH_MEDIAN'] = np.log(data['HH_MEDIAN'])\n",
    "plt.figure(figsize = (10, 10))\n",
    "stats.probplot(data['Log_HH_MEDIAN'], dist = 'norm', plot = plt)\n",
    "plt.title('Q-Q plot of log-transformed HH_MEDIAN')"
   ]
  },
  {
   "cell_type": "code",
   "execution_count": null,
   "id": "912c72f4-5316-44f8-a5e7-704379ec3266",
   "metadata": {},
   "outputs": [],
   "source": [
    "variables = ['Log_HH_MEDIAN', 'Log_POPULATION']\n",
    "g = sns.PairGrid(data[variables], diag_sharey = False) \n",
    "g.map_upper(sns.regplot, scatter_kws = {'alpha': 0.3})\n",
    "g.map_upper(corrfunc)                                  \n",
    "g.map_diag(sns.histplot, kde = False)                  \n",
    "g.map_lower(sns.kdeplot, cmap = 'Spectral_r')            \n",
    "plt.suptitle('Scatterplots with Correlation Coefficients', y = 1.02)"
   ]
  }
 ],
 "metadata": {
  "kernelspec": {
   "display_name": "Python 3 (ipykernel)",
   "language": "python",
   "name": "python3"
  },
  "language_info": {
   "codemirror_mode": {
    "name": "ipython",
    "version": 3
   },
   "file_extension": ".py",
   "mimetype": "text/x-python",
   "name": "python",
   "nbconvert_exporter": "python",
   "pygments_lexer": "ipython3",
   "version": "3.12.4"
  }
 },
 "nbformat": 4,
 "nbformat_minor": 5
}
