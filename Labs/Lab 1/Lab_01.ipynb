{
 "cells": [
  {
   "cell_type": "code",
   "execution_count": null,
   "id": "fb5a15fe-305c-494f-a003-f5959bf9600b",
   "metadata": {},
   "outputs": [],
   "source": [
    "!pip install numpy pandas matplotlib \n",
    "import numpy as np\n",
    "import pandas as pd"
   ]
  },
  {
   "cell_type": "code",
   "execution_count": null,
   "id": "8e64041d-d7a3-455d-8f65-c76850f177c3",
   "metadata": {},
   "outputs": [],
   "source": [
    "data = pd.read_csv ('IncomeUSA.csv')\n",
    "data.head()"
   ]
  },
  {
   "cell_type": "code",
   "execution_count": null,
   "id": "2b024731-55ee-477c-97ac-47f3d7e9d2a9",
   "metadata": {},
   "outputs": [],
   "source": [
    "pd.set_option('display.precision', 3)\n",
    "data.columns"
   ]
  },
  {
   "cell_type": "code",
   "execution_count": null,
   "id": "b12ae721-1e93-47ff-af6e-3921798ac1ee",
   "metadata": {},
   "outputs": [],
   "source": [
    "data['MedianIncome'] = pd.to_numeric(data['MedianIncome'].str.replace(',',''),\n",
    "                                     errors = 'coerce')\n",
    "data.head()"
   ]
  },
  {
   "cell_type": "code",
   "execution_count": null,
   "id": "2f3d4fdf-e052-44db-8fe3-a58b20961e73",
   "metadata": {},
   "outputs": [],
   "source": [
    "data['MedianIncome'].describe()"
   ]
  },
  {
   "cell_type": "code",
   "execution_count": null,
   "id": "9ee0db42-2766-409b-994b-552ecc1338ce",
   "metadata": {},
   "outputs": [],
   "source": [
    "mean_value = data['MedianIncome'].mean()\n",
    "median_value = data['MedianIncome'].median()\n",
    "std_value = data['MedianIncome'].std()\n",
    "min_value = data['MedianIncome'].min()\n",
    "max_value = data['MedianIncome'].max()\n",
    "print('Mean :',np.round(mean_value, 3))\n",
    "print('Median :', median_value)\n",
    "print('Standard deviation :', np.round(std_value, 3))\n",
    "print('Minimum median income :', min_value)\n",
    "print('Maximum median income :', max_value)"
   ]
  },
  {
   "cell_type": "code",
   "execution_count": null,
   "id": "4e7dfbd0-07dd-49aa-abf0-91b9f8de7648",
   "metadata": {},
   "outputs": [],
   "source": [
    "!pip install seaborn\n",
    "import matplotlib.pyplot as plt\n",
    "import seaborn as sns\n",
    "import warnings"
   ]
  },
  {
   "cell_type": "code",
   "execution_count": null,
   "id": "b50483b2-cc4c-4df9-8a4b-12469d3773e2",
   "metadata": {},
   "outputs": [],
   "source": [
    "warnings.simplefilter(action = 'ignore', category = FutureWarning) #why are we doing this? seems valuable"
   ]
  },
  {
   "cell_type": "code",
   "execution_count": null,
   "id": "92e9f0ae-e6ee-453f-a1d5-dfa76b4f52bd",
   "metadata": {},
   "outputs": [],
   "source": [
    "sns.set()"
   ]
  },
  {
   "cell_type": "code",
   "execution_count": null,
   "id": "58e10c5b-dd4a-430b-b511-5184063e4417",
   "metadata": {},
   "outputs": [],
   "source": [
    "plt.figure(figsize = (10, 6))\n",
    "sns.histplot(data['MedianIncome'], bins = 20, kde = 'true')\n",
    "plt.axvline(median_value, color = 'green', linestyle = '--', linewidth = 1.5,\n",
    "            label = 'Mean: {}'.format(np.round(mean_value, 2)))\n",
    "plt.axvline(median_value, color = 'green', linestyle = '--', linewidth = 1.5,\n",
    "            label = 'Median: {}'.format(np.round(median_value, 2)))\n",
    "plt.title('USA states median income distribution')\n",
    "plt.xlabel('Incomes ($)')\n",
    "plt.ylabel('Frequecy')\n",
    "plt.legend()\n",
    "plt.show()"
   ]
  },
  {
   "cell_type": "code",
   "execution_count": null,
   "id": "c35658a3-421d-4fb3-b7bc-8fe2c876fa92",
   "metadata": {},
   "outputs": [],
   "source": [
    "plt.figure(figsize = (3, 5))\n",
    "sns.boxplot(y = data['MedianIncome'], color = 'white', fliersize = 5)\n",
    "plt.title('Median Income, USA 2023')\n",
    "plt.ylabel('Median Incoms of States')\n",
    "plt.show\n",
    "\n",
    "plt.figure(figsize = (5, 3))\n",
    "sns.boxplot(x = data['MedianIncome'], color = 'white', fliersize = 5)\n",
    "plt.title('Median Income, USA 2023')\n",
    "plt.ylabel('Median Incoms of States')\n",
    "plt.show"
   ]
  },
  {
   "cell_type": "code",
   "execution_count": null,
   "id": "55940b55-71e9-45ed-9e8b-5f87b594777f",
   "metadata": {},
   "outputs": [],
   "source": [
    "data = pd.read_csv ('SAT_states2024.csv')\n",
    "data.head()\n"
   ]
  },
  {
   "cell_type": "code",
   "execution_count": null,
   "id": "9585b0f4-d8f0-4142-9b80-39e5406bbcf8",
   "metadata": {},
   "outputs": [],
   "source": [
    "mean_value = data['Total'].mean()\n",
    "median_value = data['Total'].median()\n",
    "std_value = data['Total'].std()\n",
    "min_value = data['Total'].min()\n",
    "max_value = data['Total'].max()\n",
    "Total = data['Total']\n",
    "print('Mean :',np.round(mean_value, 3))\n",
    "print('Median :', median_value)\n",
    "print('Standard deviation :', np.round(std_value, 3))\n",
    "print('Minimum score :', min_value)\n",
    "print('Maximum score :', max_value)"
   ]
  },
  {
   "cell_type": "code",
   "execution_count": null,
   "id": "84a43acc-e640-485d-9d21-0ba4aeee6146",
   "metadata": {},
   "outputs": [],
   "source": [
    "plt.figure(figsize=(10, 6))\n",
    "sns.histplot(data['Total'], bins=50, kde=True)\n",
    "plt.title('Distribution of Total SAT Scores')\n",
    "plt.xlabel('Total SAT Scores')\n",
    "plt.ylabel('Frequency')\n",
    "plt.show()"
   ]
  },
  {
   "cell_type": "code",
   "execution_count": null,
   "id": "117b24a5-86d0-44b4-a868-bf1aeb5f7e03",
   "metadata": {},
   "outputs": [],
   "source": [
    "plt.figure(figsize = (3, 5))\n",
    "sns.boxplot(y = data['Total'], color = 'white', fliersize = 5)\n",
    "plt.title('Distribution of Total SAT Scores')\n",
    "plt.ylabel('Total Scores')\n",
    "plt.show\n",
    "\n",
    "plt.figure(figsize = (5, 3))\n",
    "sns.boxplot(x = data['Total'], color = 'white', fliersize = 5)\n",
    "plt.title('Distribution of Total SAT Scores')\n",
    "plt.ylabel('Total ')\n",
    "plt.show"
   ]
  },
  {
   "cell_type": "code",
   "execution_count": null,
   "id": "bfec859b-3e8f-47c1-abfd-8b80cfd1c03c",
   "metadata": {},
   "outputs": [],
   "source": [
    "data = pd.read_csv ('obesity_USA.csv')\n",
    "data.head()"
   ]
  },
  {
   "cell_type": "code",
   "execution_count": null,
   "id": "db7e33a7-d299-41cf-9c92-c10a527041da",
   "metadata": {},
   "outputs": [],
   "source": [
    "mean_value = data['Obesity'].mean()\n",
    "median_value = data['Obesity'].median()\n",
    "std_value = data['Obesity'].std()\n",
    "min_value = data['Obesity'].min()\n",
    "max_value = data['Obesity'].max()\n",
    "print('Mean :',np.round(mean_value, 3))\n",
    "print('Median :', median_value)\n",
    "print('Standard deviation :', np.round(std_value, 3))\n",
    "print('Minimum score :', min_value)\n",
    "print('Maximum score :', max_value)"
   ]
  },
  {
   "cell_type": "code",
   "execution_count": null,
   "id": "4c7e87da-bb50-4f69-a31a-c81a9672bcfd",
   "metadata": {},
   "outputs": [],
   "source": [
    "plt.figure(figsize=(10, 6))\n",
    "sns.histplot(data['Obesity'], bins=50, kde=True)\n",
    "plt.title('Obesity Rates in the USA')\n",
    "plt.xlabel('Obesity Rate')\n",
    "plt.ylabel('Frequency')\n",
    "plt.show()"
   ]
  },
  {
   "cell_type": "code",
   "execution_count": null,
   "id": "4f5f2812-f55c-42ac-97e4-34bb7eb14763",
   "metadata": {},
   "outputs": [],
   "source": [
    "plt.figure(figsize = (3, 5))\n",
    "sns.boxplot(y = data['Obesity'], color = 'white', fliersize = 5)\n",
    "plt.title('Obesity Rates in the USA')\n",
    "plt.ylabel('Obesity Rate')\n",
    "plt.show\n",
    "\n",
    "plt.figure(figsize = (5, 3))\n",
    "sns.boxplot(x = data['Obesity'], color = 'white', fliersize = 5)\n",
    "plt.title('Obesity Rates in the USA')\n",
    "plt.ylabel('Obesity Rate')\n",
    "plt.show"
   ]
  },
  {
   "cell_type": "code",
   "execution_count": null,
   "id": "c83b3340-1147-438f-953d-d315d687a7b4",
   "metadata": {},
   "outputs": [],
   "source": []
  }
 ],
 "metadata": {
  "kernelspec": {
   "display_name": "Python 3 (ipykernel)",
   "language": "python",
   "name": "python3"
  },
  "language_info": {
   "codemirror_mode": {
    "name": "ipython",
    "version": 3
   },
   "file_extension": ".py",
   "mimetype": "text/x-python",
   "name": "python",
   "nbconvert_exporter": "python",
   "pygments_lexer": "ipython3",
   "version": "3.12.4"
  }
 },
 "nbformat": 4,
 "nbformat_minor": 5
}
