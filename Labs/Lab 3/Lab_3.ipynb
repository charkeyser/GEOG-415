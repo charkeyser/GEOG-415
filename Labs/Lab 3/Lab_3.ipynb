{
 "cells": [
  {
   "cell_type": "code",
   "execution_count": null,
   "id": "cf3b95c1-6218-467a-8103-8c29fdb38782",
   "metadata": {},
   "outputs": [],
   "source": [
    "!pip install scipy\n",
    "from scipy.stats import binom\n",
    "from scipy.stats import poisson\n",
    "import matplotlib.pyplot as plt\n",
    "import numpy as np\n",
    "import pandas as pd"
   ]
  },
  {
   "cell_type": "code",
   "execution_count": null,
   "id": "0066e05a-510a-4933-a9c7-03fe6d337c91",
   "metadata": {},
   "outputs": [],
   "source": [
    "#2025\n",
    "k = 1 \n",
    "n = 10 \n",
    "p = 0.3 \n",
    "prob = binom.pmf(k, n, p)\n",
    "print('The probability of winning exactly {} among {} game is {}'.format(k, n, prob))"
   ]
  },
  {
   "cell_type": "code",
   "execution_count": null,
   "id": "d22cd755-a7fb-425a-b673-2d48a4c07b81",
   "metadata": {},
   "outputs": [],
   "source": [
    "x = np.arange(0, n + 1)\n",
    "y = binom.pmf(x, n, p)\n",
    "print(x)\n",
    "print(y)\n",
    "binom_data = {'X': x, 'Prob': y}\n",
    "binom_df = pd.DataFrame(binom_data)\n",
    "binom_df"
   ]
  },
  {
   "cell_type": "code",
   "execution_count": null,
   "id": "24920c17-845f-40e9-8880-46776110716a",
   "metadata": {},
   "outputs": [],
   "source": [
    "plt.figure(figsize = (10, 6))\n",
    "plt.bar(x, y, color = 'red', alpha = 0.7)\n",
    "plt.title('Binomial distribution of UTK Wins 2025')\n",
    "plt.xlabel('Number of wins')\n",
    "plt.ylabel('Probability')\n",
    "plt.xticks(x)\n",
    "plt.grid(axis = 'y', linestyle = '--', alpha = 0.3)\n",
    "for i in range(len(y)):\n",
    "    plt.text(i, y[i] + 0.001, np.round(y[i], 3), \n",
    "             ha = 'center', va = 'bottom', color = 'black')\n",
    "plt.show()"
   ]
  },
  {
   "cell_type": "code",
   "execution_count": null,
   "id": "bfdb4786-75ad-44ed-9452-10144683337d",
   "metadata": {},
   "outputs": [],
   "source": [
    "#2026\n",
    "k = 1 \n",
    "n = 10 \n",
    "p = 0.5 \n",
    "prob = binom.pmf(k, n, p)\n",
    "print('The probability of winning exactly {} among {} game is {}'.format(k, n, prob))"
   ]
  },
  {
   "cell_type": "code",
   "execution_count": null,
   "id": "a24ab93b-b4f1-4575-a330-c5f645e6dbc0",
   "metadata": {},
   "outputs": [],
   "source": [
    "x = np.arange(0, n + 1)\n",
    "y = binom.pmf(x, n, p)\n",
    "print(x)\n",
    "print(y)\n",
    "binom_data = {'X': x, 'Prob': y}\n",
    "binom_df = pd.DataFrame(binom_data)\n",
    "binom_df"
   ]
  },
  {
   "cell_type": "code",
   "execution_count": null,
   "id": "80058e3b-c2ce-4ab2-81c0-416f3ef2342c",
   "metadata": {},
   "outputs": [],
   "source": [
    "plt.figure(figsize = (10, 6))\n",
    "plt.bar(x, y, color = 'red', alpha = 0.7)\n",
    "plt.title('Binomial distribution of UTK Wins 2026')\n",
    "plt.xlabel('Number of wins')\n",
    "plt.ylabel('Probability')\n",
    "plt.xticks(x)\n",
    "plt.grid(axis = 'y', linestyle = '--', alpha = 0.3)\n",
    "for i in range(len(y)):\n",
    "    plt.text(i, y[i] + 0.001, np.round(y[i], 3), \n",
    "             ha = 'center', va = 'bottom', color = 'black')\n",
    "plt.show()"
   ]
  },
  {
   "cell_type": "code",
   "execution_count": null,
   "id": "17ab9360-9ccc-416f-9972-3383cf5ec253",
   "metadata": {},
   "outputs": [],
   "source": [
    "#2027\n",
    "k = 1 \n",
    "n = 10 \n",
    "p = 0.9\n",
    "prob = binom.pmf(k, n, p)\n",
    "print('The probability of winning exactly {} among {} game is {}'.format(k, n, prob))\n",
    "x = np.arange(0, n + 1)\n",
    "y = binom.pmf(x, n, p)\n",
    "print(x)\n",
    "print(y)\n",
    "binom_data = {'X': x, 'Prob': y}\n",
    "binom_df = pd.DataFrame(binom_data)\n",
    "binom_df"
   ]
  },
  {
   "cell_type": "code",
   "execution_count": null,
   "id": "acbdfc6a-9a5c-43c4-9dd9-0db44577cdce",
   "metadata": {},
   "outputs": [],
   "source": [
    "plt.figure(figsize = (10, 6))\n",
    "plt.bar(x, y, color = 'red', alpha = 0.7)\n",
    "plt.title('Binomial distribution of UTK Wins 2027')\n",
    "plt.xlabel('Number of wins')\n",
    "plt.ylabel('Probability')\n",
    "plt.xticks(x)\n",
    "plt.grid(axis = 'y', linestyle = '--', alpha = 0.3)\n",
    "for i in range(len(y)):\n",
    "    plt.text(i, y[i] + 0.001, np.round(y[i], 3), \n",
    "             ha = 'center', va = 'bottom', color = 'black')\n",
    "plt.show()"
   ]
  },
  {
   "cell_type": "code",
   "execution_count": null,
   "id": "77194e61-0ff8-4367-a3e3-25b0e1794462",
   "metadata": {},
   "outputs": [],
   "source": [
    "#floods\n",
    "p = 0.12\n",
    "max_years = 15\n",
    "years = np.arange(1, max_years + 1) \n",
    "pmf_list = ((1 - p) ** (years - 1)) * p\n",
    "pmf_list"
   ]
  },
  {
   "cell_type": "code",
   "execution_count": null,
   "id": "453babe9-0ee4-4ea0-8203-4f351fc49b81",
   "metadata": {},
   "outputs": [],
   "source": [
    "cdf_list = 1 - ((1 - p) ** years)\n",
    "cdf_list"
   ]
  },
  {
   "cell_type": "code",
   "execution_count": null,
   "id": "30c6bd1e-c5ed-4e25-8861-265d19fb4532",
   "metadata": {},
   "outputs": [],
   "source": [
    "data = {'Year': years,\n",
    "        'Yearly prob (PMF)': pmf_list,\n",
    "        'Cumul prob (CDF)': cdf_list}\n",
    "df = pd.DataFrame(data)\n",
    "df"
   ]
  },
  {
   "cell_type": "code",
   "execution_count": null,
   "id": "aa2305d5-a8f0-4cf3-ba4a-0fc9800699ea",
   "metadata": {},
   "outputs": [],
   "source": [
    "plt.figure(figsize = (8, 8))\n",
    "plt.plot(years, cdf_list, marker = 'o', linestyle = '-', color = 'b')\n",
    "plt.title('Cumulative probability of at least one flood by within 15 years')\n",
    "plt.xlabel('Number of years')\n",
    "plt.ylabel('Cumulative probability')\n",
    "plt.grid(True)\n",
    "plt.xticks(np.arange(1, max_years + 1))\n",
    "plt.yticks(np.linspace(0, 0.5, 11))\n",
    "for i in range(len(cdf_list)):\n",
    "    plt.annotate(np.round(cdf_list[i], 3), \n",
    "                 (years[i], cdf_list[i]), \n",
    "                 textcoords = 'offset points', \n",
    "                 xytext = (0, 10), \n",
    "                 ha = 'center') \n",
    "plt.show()"
   ]
  },
  {
   "cell_type": "code",
   "execution_count": null,
   "id": "371332dd-6b04-44a6-8edf-a1ac65e9c2c0",
   "metadata": {},
   "outputs": [],
   "source": []
  }
 ],
 "metadata": {
  "kernelspec": {
   "display_name": "Python 3 (ipykernel)",
   "language": "python",
   "name": "python3"
  },
  "language_info": {
   "codemirror_mode": {
    "name": "ipython",
    "version": 3
   },
   "file_extension": ".py",
   "mimetype": "text/x-python",
   "name": "python",
   "nbconvert_exporter": "python",
   "pygments_lexer": "ipython3",
   "version": "3.12.4"
  }
 },
 "nbformat": 4,
 "nbformat_minor": 5
}
