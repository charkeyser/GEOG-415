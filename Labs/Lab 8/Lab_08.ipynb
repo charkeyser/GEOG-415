{
 "cells": [
  {
   "cell_type": "code",
   "execution_count": null,
   "id": "083aedf1-8a8a-46ff-a70d-d931f626ff40",
   "metadata": {},
   "outputs": [],
   "source": [
    "import pandas as pd\n",
    "import numpy as np\n",
    "import matplotlib.pyplot as plt\n",
    "from sklearn.manifold import MDS"
   ]
  },
  {
   "cell_type": "code",
   "execution_count": null,
   "id": "8591b936-6aff-4b6f-9771-61b84cd24a33",
   "metadata": {},
   "outputs": [],
   "source": [
    "distance_df = pd.read_csv('us_state_statecapitals_distance_matrix.csv', index_col = 0)\n",
    "mds = MDS(n_components = 2, dissimilarity = 'precomputed', random_state = 42)\n",
    "mds_result = mds.fit_transform(distance_df)\n",
    "mds_df = pd.DataFrame(mds_result, columns = ['MDS1', 'MDS2'], \n",
    "                      index = distance_df.index)\n",
    "plt.figure(figsize = (10, 10))\n",
    "plt.scatter(mds_df['MDS1'], mds_df['MDS2'])\n",
    "for i, state in enumerate(mds_df.index):\n",
    "    plt.text(mds_df['MDS1'].iloc[i], mds_df['MDS2'].iloc[i], state, fontsize = 8)\n",
    "plt.title('2D MDS Representation of US State Capitals(centroid)')\n",
    "plt.xlabel('MDS1')\n",
    "plt.ylabel('MDS2')\n",
    "plt.grid(True)\n",
    "plt.show()"
   ]
  },
  {
   "cell_type": "code",
   "execution_count": null,
   "id": "268617ee-1816-4509-aeed-ae7f1f945118",
   "metadata": {},
   "outputs": [],
   "source": [
    "mds_ax1, mds_ax2 = mds_df['MDS2'] * -1, mds_df['MDS1'] * -1\n",
    "plt.figure(figsize = (14, 10))\n",
    "plt.scatter(mds_ax1, mds_ax2)\n",
    "for i, state in enumerate(mds_df.index):\n",
    "    plt.text(mds_ax1[i], mds_ax2[i], state, fontsize = 8)\n",
    "plt.title('2D MDS Representation of US State Capitals(centroid)')\n",
    "plt.xlabel('MDS1')\n",
    "plt.ylabel('MDS2')\n",
    "plt.grid(True)\n",
    "plt.show()"
   ]
  },
  {
   "cell_type": "code",
   "execution_count": null,
   "id": "eb68dd49-22b7-4aeb-bb94-7dd610372ab2",
   "metadata": {},
   "outputs": [],
   "source": [
    "mds_ax1, mds_ax2 = mds_df['MDS2'] * 1, mds_df['MDS1'] * 1\n",
    "plt.figure(figsize = (14, 10))\n",
    "plt.scatter(mds_ax1, mds_ax2)\n",
    "for i, state in enumerate(mds_df.index):\n",
    "    plt.text(mds_ax1[i], mds_ax2[i], state, fontsize = 8)\n",
    "plt.title('2D MDS Representation of US State Capitals(centroid)')\n",
    "plt.xlabel('MDS1')\n",
    "plt.ylabel('MDS2')\n",
    "plt.grid(True)\n",
    "plt.show()"
   ]
  },
  {
   "cell_type": "code",
   "execution_count": null,
   "id": "953c974f-8db3-4dfe-8ddf-a0d337412777",
   "metadata": {},
   "outputs": [],
   "source": [
    "stress_values = []\n",
    "for dim in range(1, 7):\n",
    "    mds = MDS(n_components = dim, dissimilarity = 'precomputed', \n",
    "              normalized_stress = False, random_state = 42)\n",
    "    mds.fit(distance_df)\n",
    "    stress_values.append(round(mds.stress_, 3))\n",
    "    plt.figure(figsize = (5, 3))\n",
    "plt.plot(range(1, 7), stress_values, marker = 'o')\n",
    "plt.title('Scree Plot for MDS')\n",
    "plt.xlabel('Number of Dimensions')\n",
    "plt.ylabel('Stress Value')\n",
    "plt.xticks(range(1, 7))\n",
    "plt.grid(True)\n",
    "plt.show()\n"
   ]
  },
  {
   "cell_type": "code",
   "execution_count": null,
   "id": "6e60ca0b-fc13-4448-9c2b-c81199d13c9c",
   "metadata": {},
   "outputs": [],
   "source": [
    "from sklearn.cluster import KMeans\n",
    "from mpl_toolkits.mplot3d import Axes3D\n",
    "import seaborn as sns"
   ]
  },
  {
   "cell_type": "code",
   "execution_count": null,
   "id": "36b11bc8-7f0a-4f3a-811c-f43e5771e90c",
   "metadata": {},
   "outputs": [],
   "source": [
    "distance_df = pd.read_csv('us_state_statecapitals_distance_matrix.csv', index_col = 0)\n",
    "mds = MDS(n_components = 2, dissimilarity = 'precomputed', random_state = 42)\n",
    "mds_result = mds.fit_transform(distance_df.values)\n",
    "mds_result_rotated = mds_result[:, ::-1]  \n",
    "mds_result_rotated[:, 1] *= 1  \n",
    "mds_result_rotated[:, 0] *= -1  \n",
    "kmeans = KMeans(n_clusters = 4, random_state = 42)  \n",
    "kmeans.fit(mds_result_rotated)\n",
    "labels = kmeans.labels_\n",
    "mds_df = pd.DataFrame(mds_result_rotated, columns = ['MDS1', 'MDS2'], \n",
    "                      index = distance_df.index)\n",
    "mds_df['Cluster'] = labels\n",
    "plt.figure(figsize = (12, 8))\n",
    "sns.scatterplot(data = mds_df, x = 'MDS1', y = 'MDS2', hue = 'Cluster', \n",
    "                palette = 'Set2', s = 100)\n",
    "for state in mds_df.index:\n",
    "    plt.text(mds_df.loc[state, 'MDS1'], mds_df.loc[state, 'MDS2'], \n",
    "             state, fontsize = 9)\n",
    "\n",
    "plt.title('Rotated and Y-Axis Inverted Clustering of US State Capitals')\n",
    "plt.xlabel('MDS1')\n",
    "plt.ylabel('MDS2')\n",
    "plt.grid(True)\n",
    "plt.gca().invert_yaxis()  \n",
    "plt.show()"
   ]
  },
  {
   "cell_type": "code",
   "execution_count": null,
   "id": "77269cb2-f0f2-4950-b061-a4d022f55808",
   "metadata": {},
   "outputs": [],
   "source": [
    "mds = MDS(n_components = 3, dissimilarity = 'precomputed', random_state = 42)\n",
    "mds_result = mds.fit_transform(distance_df)\n",
    "mds_df = pd.DataFrame(mds_result, columns = ['MDS1', 'MDS2', 'MDS3'], \n",
    "                      index = distance_df.index)\n",
    "num_clusters = 4  \n",
    "kmeans = KMeans(n_clusters = num_clusters, random_state = 42)\n",
    "mds_df['Cluster'] = kmeans.fit_predict(mds_df[['MDS1', 'MDS2', 'MDS3']])\n",
    "fig = plt.figure(figsize = (12, 8))\n",
    "ax = fig.add_subplot(111, projection = '3d')\n",
    "scatter = ax.scatter(mds_df['MDS1'], mds_df['MDS2'], mds_df['MDS3'], \n",
    "                     c = mds_df['Cluster'], cmap = 'viridis', s = 30)\n",
    "for state in mds_df.index:\n",
    "    ax.text(mds_df.loc[state, 'MDS1'], \n",
    "            mds_df.loc[state, 'MDS2'], \n",
    "            mds_df.loc[state, 'MDS3'], state, fontsize = 10)\n",
    "ax.set_title('3D Visualization of States with Clusters Using MDS')\n",
    "ax.set_xlabel('MDS1')\n",
    "ax.set_ylabel('MDS2')\n",
    "ax.set_zlabel('MDS3')\n",
    "ax.view_init(elev = 45, azim = 210)\n",
    "plt.show()"
   ]
  }
 ],
 "metadata": {
  "kernelspec": {
   "display_name": "Python 3 (ipykernel)",
   "language": "python",
   "name": "python3"
  },
  "language_info": {
   "codemirror_mode": {
    "name": "ipython",
    "version": 3
   },
   "file_extension": ".py",
   "mimetype": "text/x-python",
   "name": "python",
   "nbconvert_exporter": "python",
   "pygments_lexer": "ipython3",
   "version": "3.12.4"
  }
 },
 "nbformat": 4,
 "nbformat_minor": 5
}
