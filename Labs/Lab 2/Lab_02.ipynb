{
 "cells": [
  {
   "cell_type": "code",
   "execution_count": null,
   "id": "bd2bff15",
   "metadata": {},
   "outputs": [],
   "source": [
    "! pip install seaborn\n",
    "! pip install jenkspy\n",
    "import jenkspy\n",
    "import pandas as pd\n",
    "import numpy as np\n",
    "import matplotlib.pyplot as plt\n",
    "import seaborn as sns"
   ]
  },
  {
   "cell_type": "code",
   "execution_count": null,
   "id": "d0e7afa2",
   "metadata": {},
   "outputs": [],
   "source": [
    "SAT_Scores = pd.read_csv('SAT_states2024.csv')\n",
    "\n",
    "Sorted_SAT_Scores = SAT_Scores.sort_values (by = 'Total', ascending = True)"
   ]
  },
  {
   "cell_type": "code",
   "execution_count": null,
   "id": "7df94c89",
   "metadata": {},
   "outputs": [],
   "source": [
    "Breaks_Jenks = jenkspy.jenks_breaks(Sorted_SAT_Scores['Total'], n_classes = 4)\n",
    "Sorted_SAT_Scores['Group'] = pd.cut(Sorted_SAT_Scores['Total'], \n",
    "                                    bins = Breaks_Jenks, labels = ['Very Low', \n",
    "                                                                     'Low', \n",
    "                                                                     'Middle', 'High'], \n",
    "                                      include_lowest = True)\n",
    "\n",
    "plt.figure(figsize = (14, 8))\n",
    "sns.barplot(y = 'Total', x = 'state', hue = 'Group', \n",
    "            data = Sorted_SAT_Scores, palette = 'plasma')\n",
    "plt.ylim(0, 1300)\n",
    "plt.xticks(rotation = 90)\n",
    "plt.title('SAT Scores by State')\n",
    "plt.ylabel('Total SAT Scores')\n",
    "plt.xlabel('State')"
   ]
  },
  {
   "cell_type": "code",
   "execution_count": null,
   "id": "65bf2b8b",
   "metadata": {},
   "outputs": [],
   "source": [
    "breaks_quantiles = [np.min(Sorted_SAT_Scores['Total']), \n",
    "                    np.percentile(Sorted_SAT_Scores['Total'], 25),\n",
    "                    np.median(Sorted_SAT_Scores['Total']), \n",
    "                    np.percentile(Sorted_SAT_Scores['Total'], 75),\n",
    "                    np.max(Sorted_SAT_Scores['Total'])]\n",
    "Sorted_SAT_Scores['Group_quant'] = pd.cut(Sorted_SAT_Scores['Total'], \n",
    "                                            bins = breaks_quantiles, \n",
    "                                            labels = ['Very Low', 'Low', \n",
    "                                                      'High', 'Very High'], \n",
    "                                            include_lowest = True)\n",
    "breaks_quantiles\n",
    "\n",
    "plt.figure(figsize = (14, 8))\n",
    "sns.barplot(y = 'Total', x = 'state', hue = 'Group_quant', \n",
    "            data = Sorted_SAT_Scores, palette = 'plasma')\n",
    "plt.ylim(0, 1300)\n",
    "plt.xticks(rotation = 90)\n",
    "plt.title('SAT Scores by State')\n",
    "plt.ylabel('Total SAT Scores')\n",
    "plt.xlabel('State')"
   ]
  },
  {
   "cell_type": "code",
   "execution_count": null,
   "id": "76ddf8c6",
   "metadata": {},
   "outputs": [],
   "source": [
    "std_value = np.std(Sorted_SAT_Scores['Total'])\n",
    "mean_value = np.mean(Sorted_SAT_Scores['Total'])\n",
    "breaks_std = [np.min(Sorted_SAT_Scores['Total']), \n",
    "              mean_value - std_value, \n",
    "              mean_value,\n",
    "              mean_value + std_value, \n",
    "              np.max(Sorted_SAT_Scores['Total'])]\n",
    "Sorted_SAT_Scores['Group_std'] = pd.cut(Sorted_SAT_Scores['Total'], \n",
    "                                          bins = breaks_std, \n",
    "                                          labels = ['Very Low', 'Low', \n",
    "                                                    'High', 'Very High'], \n",
    "                                          include_lowest = True)\n",
    "breaks_std\n",
    "\n",
    "plt.figure(figsize = (14, 8))\n",
    "sns.barplot(y = 'Total', x = 'state', hue = 'Group_std', \n",
    "            data = Sorted_SAT_Scores, palette = 'plasma')\n",
    "plt.ylim(0 , 1300)\n",
    "plt.xticks(rotation = 90)\n",
    "plt.title('SAT Scores by State')\n",
    "plt.ylabel('Total SAT Scores')\n",
    "plt.xlabel('State')"
   ]
  },
  {
   "cell_type": "code",
   "execution_count": null,
   "id": "e5c204b8",
   "metadata": {},
   "outputs": [],
   "source": [
    "def equal_breaks(data, n_classes = 4):\n",
    "    breaks_ls = []\n",
    "    min_val = np.min(data)\n",
    "    max_val = np.max(data)\n",
    "    interval = (max_val - min_val) / n_classes\n",
    "    breaks_ls.append(min_val)\n",
    "    for i in range(1, n_classes):\n",
    "        breaks_ls.append(min_val + (interval * i))\n",
    "    breaks_ls.append(max_val)\n",
    "    print('interval:', np.round(interval, 3))\n",
    "    return breaks_ls\n",
    "\n",
    "breaks_equal = equal_breaks(Sorted_SAT_Scores['Total'], n_classes = 4)\n",
    "Sorted_SAT_Scores['Group_equal'] = pd.cut(Sorted_SAT_Scores['Total'], \n",
    "                                            bins = breaks_equal, \n",
    "                                            labels = ['Very Low', 'Low', \n",
    "                                                      'High', 'Very High'], \n",
    "                                            include_lowest = True)\n",
    "breaks_equal\n",
    "\n",
    "plt.figure(figsize = (14, 8))\n",
    "sns.barplot(y = 'Total', x = 'state', hue = 'Group_std', \n",
    "            data = Sorted_SAT_Scores, palette = 'plasma')\n",
    "plt.ylim(0 , 1300)\n",
    "plt.xticks(rotation = 90)\n",
    "plt.title('SAT Scores by State')\n",
    "plt.ylabel('Total SAT Scores')\n",
    "plt.xlabel('State')"
   ]
  },
  {
   "cell_type": "code",
   "execution_count": null,
   "id": "65cfabf1",
   "metadata": {},
   "outputs": [],
   "source": [
    "import matplotlib.pyplot as plt"
   ]
  },
  {
   "cell_type": "code",
   "execution_count": null,
   "id": "121c9739-bbe6-4057-af2a-bd0314f6a656",
   "metadata": {},
   "outputs": [],
   "source": [
    "SUSB = pd.read_csv('SUSB_centroid.csv')"
   ]
  },
  {
   "cell_type": "code",
   "execution_count": null,
   "id": "5c19efbb-8578-466f-a6c8-c46c45548792",
   "metadata": {},
   "outputs": [],
   "source": [
    "SUSB.columns\n"
   ]
  },
  {
   "cell_type": "code",
   "execution_count": null,
   "id": "7670e6fe-2e13-45da-9f60-ef69954063f6",
   "metadata": {},
   "outputs": [],
   "source": [
    "SUSB.head(10)"
   ]
  },
  {
   "cell_type": "code",
   "execution_count": null,
   "id": "8286f7fc-6cbd-4ba1-bb83-9830120156ea",
   "metadata": {},
   "outputs": [],
   "source": [
    "mean_x = np.mean(SUSB['LONG'])\n",
    "mean_y = np.mean(SUSB['LAT'])\n",
    "mean_center = (mean_x, mean_y)\n",
    "print('Mean center:', mean_center)"
   ]
  },
  {
   "cell_type": "code",
   "execution_count": null,
   "id": "3831240e-3236-41bd-980e-c8179194fa0b",
   "metadata": {},
   "outputs": [],
   "source": [
    "weighted_mean_x = np.average(SUSB['LONG'], weights = SUSB['Firms'])\n",
    "weighted_mean_y = np.average(SUSB['LAT'], weights = SUSB['Firms'])\n",
    "weighted_mean_center = (weighted_mean_x, weighted_mean_y)\n",
    "print('Weighted mean center:', weighted_mean_center)"
   ]
  },
  {
   "cell_type": "code",
   "execution_count": null,
   "id": "aee61017-b2d5-4ae7-aac6-4955040dab3b",
   "metadata": {},
   "outputs": [],
   "source": [
    "def weighted_median(data, weights):\n",
    "    sorted_indices = np.argsort(data)\n",
    "    sorted_data = data[sorted_indices]\n",
    "    sorted_weights = weights[sorted_indices]\n",
    "    cumulative_weight = np.cumsum(sorted_weights)\n",
    "    median_index = np.searchsorted(cumulative_weight, cumulative_weight[-1] / 2)\n",
    "    return sorted_data[median_index]\n",
    "weighted_median_x = weighted_median(SUSB['LONG'].values, \n",
    "                                    SUSB['Firms'].values)\n",
    "weighted_median_y = weighted_median(SUSB['LAT'].values, \n",
    "                                    SUSB['Firms'].values)\n",
    "wmc = (weighted_median_x, weighted_median_y)\n",
    "print('Weighted Median Center:', wmc)"
   ]
  },
  {
   "cell_type": "code",
   "execution_count": null,
   "id": "4e05ad22-f2b7-4b06-9fc0-1408c732a8a1",
   "metadata": {},
   "outputs": [],
   "source": [
    "sum_weighted_distances = []\n",
    "for i in range(len(SUSB)):\n",
    "    x_i = SUSB['LONG'][i]\n",
    "    y_i = SUSB['LAT'][i]\n",
    "    distance_to_others = np.sqrt((SUSB['LONG'] - x_i) ** 2 \n",
    "                                 + (SUSB['LAT'] - y_i) ** 2)\n",
    "    weighted_distance = distance_to_others * SUSB['Firms']\n",
    "    sum_weighted_distance = np.sum(weighted_distance)\n",
    "    sum_weighted_distances.append(sum_weighted_distance)\n",
    "    \n",
    "SUSB['SumWeightedDistance'] = sum_weighted_distances\n",
    "min_distance_point = SUSB.loc[SUSB['SumWeightedDistance'].idxmin()]\n",
    "min_distance_point"
   ]
  },
  {
   "cell_type": "code",
   "execution_count": null,
   "id": "cff0dcc1-f169-42cf-b4f5-218cb27fb3b2",
   "metadata": {},
   "outputs": [],
   "source": [
    "def weighted_median(data, weights):\n",
    "    sorted_indices = np.argsort(data)\n",
    "    sorted_data = data[sorted_indices]\n",
    "    sorted_weights = weights[sorted_indices]\n",
    "    cumulative_weight = np.cumsum(sorted_weights)\n",
    "    median_index = np.searchsorted(cumulative_weight, cumulative_weight[-1] / 2)\n",
    "    return sorted_data[median_index]\n",
    "\n",
    "years = [2007, 2009, 2019, 2021]\n",
    "SUSB_filtered = SUSB[SUSB['Year'].isin(years)]\n",
    "results = {}\n",
    "\n",
    "for year, group in SUSB_filtered.groupby('Year'):\n",
    "    coords = group[['LONG', 'LAT']].values\n",
    "    distance_matrix = np.sqrt(np.sum((coords[:, None, :] - coords[None, :, :]) ** 2, axis=2))\n",
    "    \n",
    "    weighted_distances = distance_matrix @ group['Firms'].values  \n",
    "    group['SumWeightedDistance'] = weighted_distances\n",
    "    min_distance_point = group.loc[group['SumWeightedDistance'].idxmin()]\n",
    "\n",
    "    weighted_median_x = weighted_median(group['LONG'].values, group['Firms'].values)\n",
    "    weighted_median_y = weighted_median(group['LAT'].values, group['Firms'].values)\n",
    "    wmc = (weighted_median_x, weighted_median_y)\n",
    "\n",
    "    results[year] = {\n",
    "        'Weighted Median Center': wmc,\n",
    "        'Min Distance Point': min_distance_point\n",
    "    }\n",
    "for year, result in results.items():\n",
    "    print(f\"Year: {year}\")\n",
    "    print(f\"Weighted Median Center: {result['Weighted Median Center']}\")\n",
    "    print(f\"Min Distance Point: {result['Min Distance Point']}\")\n",
    "    print()"
   ]
  },
  {
   "cell_type": "code",
   "execution_count": null,
   "id": "906acfe5-dd3e-41b7-8183-2f57675cf4f6",
   "metadata": {},
   "outputs": [],
   "source": []
  },
  {
   "cell_type": "code",
   "execution_count": null,
   "id": "eff5eb12-9129-472a-b608-5fa0b48d0348",
   "metadata": {},
   "outputs": [],
   "source": []
  }
 ],
 "metadata": {
  "kernelspec": {
   "display_name": "Python 3 (ipykernel)",
   "language": "python",
   "name": "python3"
  },
  "language_info": {
   "codemirror_mode": {
    "name": "ipython",
    "version": 3
   },
   "file_extension": ".py",
   "mimetype": "text/x-python",
   "name": "python",
   "nbconvert_exporter": "python",
   "pygments_lexer": "ipython3",
   "version": "3.12.4"
  }
 },
 "nbformat": 4,
 "nbformat_minor": 5
}
