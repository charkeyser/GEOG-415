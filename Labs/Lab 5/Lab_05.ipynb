{
 "cells": [
  {
   "cell_type": "code",
   "execution_count": null,
   "id": "3e08ff20-1a64-4e29-8d16-670699cb0024",
   "metadata": {},
   "outputs": [],
   "source": [
    "import pandas as pd\n",
    "import numpy as np\n",
    "import matplotlib.pyplot as plt\n",
    "import seaborn as sns\n",
    "from scipy.stats import pearsonr\n",
    "import warnings"
   ]
  },
  {
   "cell_type": "code",
   "execution_count": null,
   "id": "dd3518b6-de4a-4c8f-8f5b-5f4d172ee520",
   "metadata": {},
   "outputs": [],
   "source": [
    "data = pd.read_csv('EvictionMemphis2020.csv')\n",
    "variables = ['EvicTotal','HH_Median']\n",
    "data_selected = data[variables]\n",
    "data_cleaned = data_selected[(data_selected['EvicTotal'] > 0) \n",
    "                             & (data_selected['HH_Median'] > 0)]\n",
    "print('# of observations (original):', len(data))\n",
    "print('# of observations (cleaned):', len(data_cleaned))"
   ]
  },
  {
   "cell_type": "code",
   "execution_count": null,
   "id": "87f0c971-5c32-44cf-bc5d-d84c72848b2b",
   "metadata": {},
   "outputs": [],
   "source": [
    "descriptive_stats = data_cleaned.describe()\n",
    "print(\"Descriptive statistics for the selected variables:\")\n",
    "print(descriptive_stats)"
   ]
  },
  {
   "cell_type": "code",
   "execution_count": null,
   "id": "550f5fdd-5e18-4fa7-bb29-ae360499a3fc",
   "metadata": {},
   "outputs": [],
   "source": [
    "skewness_values = data_cleaned.skew()\n",
    "print(\"Skewness of the selected variables:\")\n",
    "print(skewness_values)"
   ]
  },
  {
   "cell_type": "code",
   "execution_count": null,
   "id": "113cb1aa-9e27-4b58-8fa7-6070fe65721b",
   "metadata": {},
   "outputs": [],
   "source": [
    "def corrfunc(x, y, **kwargs):\n",
    "    stat, pval = pearsonr(x, y)\n",
    "    ax = plt.gca() \n",
    "    ax.annotate('r = {}'.format(np.round(stat, 2)),  xy = (0.6, 0.1),\n",
    "                xycoords = ax.transAxes, fontsize = 12, color = 'red') \n",
    "g = sns.PairGrid(data_cleaned, diag_sharey = False)\n",
    "g.map_upper(sns.regplot, scatter_kws = {'alpha': 0.3}) \n",
    "g.map_upper(corrfunc)                                  \n",
    "g.map_diag(sns.histplot, kde = False)                  \n",
    "g.map_lower(sns.kdeplot, cmap = 'Spectral_r')                       \n",
    "plt.suptitle('Scatterplot for the variables', \n",
    "             y = 1.1)\n",
    "plt.show()"
   ]
  },
  {
   "cell_type": "code",
   "execution_count": null,
   "id": "97a075c9-8a6e-42d1-a984-c6712bacaba8",
   "metadata": {},
   "outputs": [],
   "source": [
    "data_log = np.log(data_cleaned)\n",
    "data_log = data_log.rename(columns = {'EvicTotal': 'Log_EvicTotal',\n",
    "                                      'HH_Median': 'Log_HH_Median' })"
   ]
  },
  {
   "cell_type": "code",
   "execution_count": null,
   "id": "b9dba102-9706-4e90-be0e-41547b70b9a4",
   "metadata": {},
   "outputs": [],
   "source": [
    "descriptive_stats = data_log.describe()\n",
    "print(\"Descriptive statistics for log variables:\")\n",
    "print(descriptive_stats)"
   ]
  },
  {
   "cell_type": "code",
   "execution_count": null,
   "id": "070f465a-16ba-4336-8a7f-281873b9acdf",
   "metadata": {},
   "outputs": [],
   "source": [
    "skewness_values = data_log.skew()\n",
    "print(\"Skewness of the log variables:\")\n",
    "print(skewness_values)"
   ]
  },
  {
   "cell_type": "code",
   "execution_count": null,
   "id": "94573818-12e7-43a5-8a50-e9073dc11012",
   "metadata": {},
   "outputs": [],
   "source": [
    "def corrfunc(x, y, **kwargs):\n",
    "    stat, pval = pearsonr(x, y)\n",
    "    ax = plt.gca() \n",
    "    ax.annotate('r = {}'.format(np.round(stat, 2)),  xy = (0.6, 0.1),\n",
    "                xycoords = ax.transAxes, fontsize = 12, color = 'red') \n",
    "g = sns.PairGrid(data_log, diag_sharey = False)\n",
    "g.map_upper(sns.regplot, scatter_kws = {'alpha': 0.3}) \n",
    "g.map_upper(corrfunc)                                  \n",
    "g.map_diag(sns.histplot, kde = False)                  \n",
    "g.map_lower(sns.kdeplot, cmap = 'Spectral_r')                       \n",
    "plt.suptitle('Scatterplot for the log variables', \n",
    "             y = 1.1)\n",
    "plt.show()"
   ]
  },
  {
   "cell_type": "code",
   "execution_count": null,
   "id": "b16299dc-e593-41b0-8339-b7cfa3916568",
   "metadata": {},
   "outputs": [],
   "source": [
    "import statsmodels.api as regression"
   ]
  },
  {
   "cell_type": "code",
   "execution_count": null,
   "id": "633b30d0-0dc1-42fd-bfe5-f51df83ad99b",
   "metadata": {},
   "outputs": [],
   "source": [
    "X = data_cleaned['HH_Median']  \n",
    "y = data_cleaned['EvicTotal']\n",
    "X = regression.add_constant(X)\n",
    "model = regression.OLS(y, X).fit()\n",
    "print(model.summary())"
   ]
  },
  {
   "cell_type": "code",
   "execution_count": null,
   "id": "6f20c7f5-6b26-4ae1-b225-6b898d7f90da",
   "metadata": {},
   "outputs": [],
   "source": [
    "plt.figure(figsize = (8, 6))\n",
    "sns.regplot(x = 'HH_Median', y = 'EvicTotal', data = data_cleaned, \n",
    "            scatter_kws = {'alpha': 0.5}, line_kws = {'color': 'blue'})\n",
    "plt.title('Linear Regression: EvicTotal vs HH_Median')\n",
    "plt.show()"
   ]
  },
  {
   "cell_type": "code",
   "execution_count": null,
   "id": "762edc1b-d932-4f9a-a4eb-7ae5e5f7b27b",
   "metadata": {},
   "outputs": [],
   "source": [
    "y_pred = model.predict(X)\n",
    "residuals = y - y_pred\n",
    "standardized_residuals = residuals / np.std(residuals)\n",
    "plt.figure(figsize = (8, 6))\n",
    "plt.scatter(y_pred, standardized_residuals, alpha = 0.5)\n",
    "plt.axhline(y = 0, color='r', linestyle = '--', linewidth = 2)\n",
    "plt.axhline(y = 2, color='g', linestyle = '--', linewidth = 1) \n",
    "plt.axhline(y = -2, color='g', linestyle = '--', linewidth = 1)\n",
    "plt.title('Standardized vs. Fitted values')\n",
    "plt.xlabel('Fitted Values (Predicted EvicTotal)')\n",
    "plt.ylabel('Standardized residuals')\n",
    "plt.show()"
   ]
  },
  {
   "cell_type": "code",
   "execution_count": null,
   "id": "b428d280-0b77-407d-9567-a8bcd91c2381",
   "metadata": {},
   "outputs": [],
   "source": [
    "X_log = data_log['Log_HH_Median']  \n",
    "y_log = data_log['Log_EvicTotal']\n",
    "X_log = regression.add_constant(X)\n",
    "model = regression.OLS(y_log, X_log).fit()\n",
    "print(model.summary())"
   ]
  },
  {
   "cell_type": "code",
   "execution_count": null,
   "id": "1f103d2c-84bb-49b0-bc8e-9c4ea51ced4c",
   "metadata": {},
   "outputs": [],
   "source": [
    "plt.figure(figsize = (8, 6))\n",
    "sns.regplot(x = 'Log_HH_Median', y = 'Log_EvicTotal', data = data_log, \n",
    "            scatter_kws = {'alpha': 0.5}, line_kws = {'color': 'blue'})\n",
    "plt.title('Linear Regression: Log_EvicTotal vs Log_HH_Median')\n",
    "plt.show()"
   ]
  },
  {
   "cell_type": "code",
   "execution_count": null,
   "id": "c11c60d3-0008-4cf3-93a0-d5b2edb38d7f",
   "metadata": {},
   "outputs": [],
   "source": [
    "y_pred = model.predict(X_log)\n",
    "residuals = y_log - y_pred\n",
    "standardized_residuals = residuals / np.std(residuals)\n",
    "plt.figure(figsize = (8, 6))\n",
    "plt.scatter(y_pred, standardized_residuals, alpha = 0.5)\n",
    "plt.axhline(y = 0, color='r', linestyle = '--', linewidth = 2)\n",
    "plt.axhline(y = 2, color='g', linestyle = '--', linewidth = 1) \n",
    "plt.axhline(y = -2, color='g', linestyle = '--', linewidth = 1)\n",
    "plt.title('Standardized vs. Fitted values')\n",
    "plt.xlabel('Fitted Values (Predicted EvicTotal)')\n",
    "plt.ylabel('Standardized residuals')\n",
    "plt.show()"
   ]
  }
 ],
 "metadata": {
  "kernelspec": {
   "display_name": "Python 3 (ipykernel)",
   "language": "python",
   "name": "python3"
  },
  "language_info": {
   "codemirror_mode": {
    "name": "ipython",
    "version": 3
   },
   "file_extension": ".py",
   "mimetype": "text/x-python",
   "name": "python",
   "nbconvert_exporter": "python",
   "pygments_lexer": "ipython3",
   "version": "3.12.4"
  }
 },
 "nbformat": 4,
 "nbformat_minor": 5
}
